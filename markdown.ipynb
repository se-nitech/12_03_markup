{
 "cells": [
  {
   "cell_type": "markdown",
   "metadata": {},
   "source": [
    "# Markdownの文法\n",
    "\n",
    "## リスト\n",
    "\n",
    "- 箇条書き\n",
    "- こうなります\n",
    "  - インデントを2つ下げると\n",
    "  - レベルが上がります\n",
    "- 箇条書き\n",
    "  - 箇条書き\n",
    "    - 箇条書き"
   ]
  },
  {
   "cell_type": "markdown",
   "metadata": {},
   "source": [
    "## コード\n",
    "\n",
    "コードを入力する場合は以下のようなコードブロックを使います．\n",
    "\n",
    "```python:test.py\n",
    "def myfunc(a, b, c):\n",
    "    a = b + c\n",
    "    print(a)\n",
    "```"
   ]
  },
  {
   "cell_type": "markdown",
   "metadata": {},
   "source": [
    "## 数式\n",
    "\n",
    "レンダラによっては$y = f(x)$のようなLaTeX数式も対応しています．インラインだけでなく，行立ての数式\n",
    "$$\n",
    "y = \\int_a^b f(x, t) dt\n",
    "$$\n",
    "も対応しています．数式番号は対応していないことがほとんどです（拡張機能が使える場合もある）．"
   ]
  },
  {
   "cell_type": "code",
   "execution_count": null,
   "metadata": {},
   "outputs": [],
   "source": []
  }
 ],
 "metadata": {
  "kernelspec": {
   "display_name": "Python 3",
   "language": "python",
   "name": "python3"
  },
  "language_info": {
   "codemirror_mode": {
    "name": "ipython",
    "version": 3
   },
   "file_extension": ".py",
   "mimetype": "text/x-python",
   "name": "python",
   "nbconvert_exporter": "python",
   "pygments_lexer": "ipython3",
   "version": "3.7.9"
  }
 },
 "nbformat": 4,
 "nbformat_minor": 2
}
